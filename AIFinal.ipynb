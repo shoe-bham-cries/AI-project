{
  "nbformat": 4,
  "nbformat_minor": 0,
  "metadata": {
    "colab": {
      "name": "AIFinal.ipynb",
      "provenance": [],
      "collapsed_sections": [],
      "include_colab_link": true
    },
    "kernelspec": {
      "name": "python3",
      "display_name": "Python 3"
    },
    "language_info": {
      "name": "python"
    }
  },
  "cells": [
    {
      "cell_type": "markdown",
      "metadata": {
        "id": "view-in-github",
        "colab_type": "text"
      },
      "source": [
        "<a href=\"https://colab.research.google.com/github/shoe-bham-cries/RNN-LSTM-Cryptocurrency/blob/main/AIFinal.ipynb\" target=\"_parent\"><img src=\"https://colab.research.google.com/assets/colab-badge.svg\" alt=\"Open In Colab\"/></a>"
      ]
    },
    {
      "cell_type": "markdown",
      "metadata": {
        "id": "2X_I7xwqUxeB"
      },
      "source": [
        "\n",
        "\n",
        "Importing libraries\n"
      ]
    },
    {
      "cell_type": "code",
      "metadata": {
        "id": "QR_JtbNkBSdb"
      },
      "source": [
        "# Importing all the necessary libraries\n",
        "import numpy as n\n",
        "import math\n",
        "import matplotlib.pyplot as plt\n",
        "import numpy as np\n",
        "import pandas as p\n",
        "from sklearn.metrics import mean_squared_error\n",
        "from sklearn.preprocessing import MinMaxScaler\n",
        "from sklearn.linear_model import LinearRegression\n",
        "from tensorflow.keras import Sequential\n",
        "from tensorflow.keras.layers import Dense, LSTM, Dropout"
      ],
      "execution_count": 1,
      "outputs": []
    },
    {
      "cell_type": "markdown",
      "metadata": {
        "id": "eCL0pJvLV3y5"
      },
      "source": [
        "Data preprocessing"
      ]
    },
    {
      "cell_type": "code",
      "metadata": {
        "id": "Qa_pJCebBbL7",
        "colab": {
          "base_uri": "https://localhost:8080/"
        },
        "outputId": "b8a4f26f-845f-4252-fdd6-23220f538778"
      },
      "source": [
        "# Importing data and rectifying loss of data by filling the NaN values with mean of the whole field\n",
        "data = p.read_csv('/content/LTC-USD.csv', date_parser=True)\n",
        "count = 0\n",
        "for j in data['Open']:\n",
        "  if(math.isnan(j)):\n",
        "    count+=1\n",
        "data['Open'].fillna(value=data['Open'].mean(), inplace=True)\n",
        "data['High'].fillna(value=data['High'].mean(), inplace=True)\n",
        "data['Low'].fillna(value=data['Low'].mean(), inplace=True)\n",
        "data['Close'].fillna(value=data['Close'].mean(), inplace=True)\n",
        "data['Adj Close'].fillna(value=data['Adj Close'].mean(), inplace=True)\n",
        "data['Volume'].fillna(value=data['Volume'].mean(), inplace=True)\n",
        "print(count)"
      ],
      "execution_count": 2,
      "outputs": [
        {
          "output_type": "stream",
          "name": "stdout",
          "text": [
            "4\n"
          ]
        }
      ]
    },
    {
      "cell_type": "code",
      "metadata": {
        "id": "E6DOkZf3B-NV"
      },
      "source": [
        "# Splitting data into traing and test data and dropping all the unnecessay columns from the table\n",
        "training_data = data[data['Date'] <= '2021-10-31'].copy()\n",
        "test_data = data[data['Date'] > '2021-10-31'].copy()\n",
        "\n",
        "training_data = training_data.drop(['Date', 'Adj Close'], axis=1)"
      ],
      "execution_count": 3,
      "outputs": []
    },
    {
      "cell_type": "markdown",
      "metadata": {
        "id": "WHKdYeZKWC92"
      },
      "source": [
        "Feature Scaling"
      ]
    },
    {
      "cell_type": "code",
      "metadata": {
        "id": "vLX3Z8IMCBhW"
      },
      "source": [
        "# Scaling the data to fit a particular range\n",
        "scaler = MinMaxScaler()\n",
        "train_data = scaler.fit_transform(training_data)\n",
        "X_train = []\n",
        "Y_train = []\n",
        "\n",
        "for i in range(60, train_data.shape[0]):\n",
        "    X_train.append(train_data[i - 60:i])\n",
        "    Y_train.append(train_data[i, 0])\n",
        "\n",
        "X_train = n.array(X_train)\n",
        "Y_train = n.array(Y_train)"
      ],
      "execution_count": 4,
      "outputs": []
    },
    {
      "cell_type": "markdown",
      "metadata": {
        "id": "5kuOHO5HWK7b"
      },
      "source": [
        "Building the model"
      ]
    },
    {
      "cell_type": "code",
      "metadata": {
        "id": "3JUmqgZKCFKr"
      },
      "source": [
        "# Creating multiple layers of neural network\n",
        "model = Sequential()\n",
        "model.add(LSTM(units=64, activation='relu', return_sequences=True, input_shape=(X_train.shape[1], 5)))\n",
        "model.add(Dropout(0.2))\n",
        "model.add(LSTM(units=64, activation='relu', return_sequences=True))\n",
        "model.add(Dropout(0.3))\n",
        "model.add(LSTM(units=128, activation='relu', return_sequences=True))\n",
        "model.add(Dropout(0.4))\n",
        "model.add(LSTM(units=128, activation='relu'))\n",
        "model.add(Dropout(0.2))\n",
        "model.add(Dense(units=1))\n",
        "model.compile(optimizer='adam', loss='mean_squared_error')"
      ],
      "execution_count": 5,
      "outputs": []
    },
    {
      "cell_type": "markdown",
      "metadata": {
        "id": "Kj-bh_bwWQfh"
      },
      "source": [
        "Fitting of model"
      ]
    },
    {
      "cell_type": "code",
      "metadata": {
        "colab": {
          "base_uri": "https://localhost:8080/"
        },
        "id": "ZFQcFYjdCIkU",
        "outputId": "3a16effe-3239-42a9-fafb-0056b4d92c0f"
      },
      "source": [
        "# Training the model\n",
        "history = model.fit(X_train, Y_train, epochs=50, batch_size=32, validation_split=0.1)"
      ],
      "execution_count": 6,
      "outputs": [
        {
          "output_type": "stream",
          "name": "stdout",
          "text": [
            "Epoch 1/50\n",
            "72/72 [==============================] - 21s 226ms/step - loss: 0.0068 - val_loss: 0.0196\n",
            "Epoch 2/50\n",
            "72/72 [==============================] - 16s 217ms/step - loss: 0.0027 - val_loss: 0.0084\n",
            "Epoch 3/50\n",
            "72/72 [==============================] - 16s 216ms/step - loss: 0.0018 - val_loss: 0.0144\n",
            "Epoch 4/50\n",
            "72/72 [==============================] - 16s 218ms/step - loss: 0.0016 - val_loss: 0.0120\n",
            "Epoch 5/50\n",
            "72/72 [==============================] - 16s 219ms/step - loss: 0.0014 - val_loss: 0.0085\n",
            "Epoch 6/50\n",
            "72/72 [==============================] - 16s 218ms/step - loss: 0.0014 - val_loss: 0.0065\n",
            "Epoch 7/50\n",
            "72/72 [==============================] - 16s 218ms/step - loss: 0.0013 - val_loss: 0.0069\n",
            "Epoch 8/50\n",
            "72/72 [==============================] - 16s 217ms/step - loss: 0.0012 - val_loss: 0.0098\n",
            "Epoch 9/50\n",
            "72/72 [==============================] - 16s 218ms/step - loss: 0.0011 - val_loss: 0.0125\n",
            "Epoch 10/50\n",
            "72/72 [==============================] - 16s 217ms/step - loss: 9.2340e-04 - val_loss: 0.0044\n",
            "Epoch 11/50\n",
            "72/72 [==============================] - 16s 220ms/step - loss: 8.8783e-04 - val_loss: 0.0026\n",
            "Epoch 12/50\n",
            "72/72 [==============================] - 16s 217ms/step - loss: 8.8591e-04 - val_loss: 0.0037\n",
            "Epoch 13/50\n",
            "72/72 [==============================] - 16s 218ms/step - loss: 0.0010 - val_loss: 0.0081\n",
            "Epoch 14/50\n",
            "72/72 [==============================] - 16s 219ms/step - loss: 0.0010 - val_loss: 0.0047\n",
            "Epoch 15/50\n",
            "72/72 [==============================] - 16s 220ms/step - loss: 9.3359e-04 - val_loss: 0.0102\n",
            "Epoch 16/50\n",
            "72/72 [==============================] - 16s 218ms/step - loss: 8.9996e-04 - val_loss: 0.0024\n",
            "Epoch 17/50\n",
            "72/72 [==============================] - 16s 219ms/step - loss: 7.3582e-04 - val_loss: 0.0078\n",
            "Epoch 18/50\n",
            "72/72 [==============================] - 16s 219ms/step - loss: 6.5911e-04 - val_loss: 0.0048\n",
            "Epoch 19/50\n",
            "72/72 [==============================] - 16s 220ms/step - loss: 6.9002e-04 - val_loss: 0.0065\n",
            "Epoch 20/50\n",
            "72/72 [==============================] - 16s 218ms/step - loss: 6.5970e-04 - val_loss: 0.0072\n",
            "Epoch 21/50\n",
            "72/72 [==============================] - 16s 218ms/step - loss: 6.7643e-04 - val_loss: 0.0036\n",
            "Epoch 22/50\n",
            "72/72 [==============================] - 16s 218ms/step - loss: 6.2267e-04 - val_loss: 0.0044\n",
            "Epoch 23/50\n",
            "72/72 [==============================] - 16s 219ms/step - loss: 6.7757e-04 - val_loss: 0.0047\n",
            "Epoch 24/50\n",
            "72/72 [==============================] - 16s 218ms/step - loss: 5.5073e-04 - val_loss: 0.0113\n",
            "Epoch 25/50\n",
            "72/72 [==============================] - 16s 220ms/step - loss: 6.7418e-04 - val_loss: 0.0039\n",
            "Epoch 26/50\n",
            "72/72 [==============================] - 16s 218ms/step - loss: 7.2540e-04 - val_loss: 0.0037\n",
            "Epoch 27/50\n",
            "72/72 [==============================] - 16s 219ms/step - loss: 5.4167e-04 - val_loss: 0.0029\n",
            "Epoch 28/50\n",
            "72/72 [==============================] - 16s 217ms/step - loss: 5.6569e-04 - val_loss: 0.0075\n",
            "Epoch 29/50\n",
            "72/72 [==============================] - 16s 218ms/step - loss: 5.8643e-04 - val_loss: 0.0049\n",
            "Epoch 30/50\n",
            "72/72 [==============================] - 16s 219ms/step - loss: 6.3652e-04 - val_loss: 0.0026\n",
            "Epoch 31/50\n",
            "72/72 [==============================] - 16s 218ms/step - loss: 7.4383e-04 - val_loss: 0.0042\n",
            "Epoch 32/50\n",
            "72/72 [==============================] - 16s 219ms/step - loss: 5.3886e-04 - val_loss: 0.0037\n",
            "Epoch 33/50\n",
            "72/72 [==============================] - 16s 219ms/step - loss: 6.4026e-04 - val_loss: 0.0052\n",
            "Epoch 34/50\n",
            "72/72 [==============================] - 16s 221ms/step - loss: 5.6242e-04 - val_loss: 0.0028\n",
            "Epoch 35/50\n",
            "72/72 [==============================] - 16s 217ms/step - loss: 5.6154e-04 - val_loss: 0.0078\n",
            "Epoch 36/50\n",
            "72/72 [==============================] - 16s 215ms/step - loss: 6.1062e-04 - val_loss: 0.0048\n",
            "Epoch 37/50\n",
            "72/72 [==============================] - 16s 216ms/step - loss: 6.9171e-04 - val_loss: 0.0091\n",
            "Epoch 38/50\n",
            "72/72 [==============================] - 16s 216ms/step - loss: 6.2100e-04 - val_loss: 0.0063\n",
            "Epoch 39/50\n",
            "72/72 [==============================] - 16s 216ms/step - loss: 5.3604e-04 - val_loss: 0.0045\n",
            "Epoch 40/50\n",
            "72/72 [==============================] - 16s 216ms/step - loss: 5.3997e-04 - val_loss: 0.0106\n",
            "Epoch 41/50\n",
            "72/72 [==============================] - 16s 217ms/step - loss: 4.8395e-04 - val_loss: 0.0042\n",
            "Epoch 42/50\n",
            "72/72 [==============================] - 16s 217ms/step - loss: 4.5357e-04 - val_loss: 0.0033\n",
            "Epoch 43/50\n",
            "72/72 [==============================] - 16s 217ms/step - loss: 5.0989e-04 - val_loss: 0.0059\n",
            "Epoch 44/50\n",
            "72/72 [==============================] - 16s 218ms/step - loss: 4.7355e-04 - val_loss: 0.0099\n",
            "Epoch 45/50\n",
            "72/72 [==============================] - 16s 218ms/step - loss: 4.7681e-04 - val_loss: 0.0055\n",
            "Epoch 46/50\n",
            "72/72 [==============================] - 16s 218ms/step - loss: 4.6638e-04 - val_loss: 0.0040\n",
            "Epoch 47/50\n",
            "72/72 [==============================] - 16s 219ms/step - loss: 4.8442e-04 - val_loss: 0.0062\n",
            "Epoch 48/50\n",
            "72/72 [==============================] - 16s 217ms/step - loss: 4.3684e-04 - val_loss: 0.0023\n",
            "Epoch 49/50\n",
            "72/72 [==============================] - 16s 218ms/step - loss: 5.2188e-04 - val_loss: 0.0052\n",
            "Epoch 50/50\n",
            "72/72 [==============================] - 16s 216ms/step - loss: 5.2704e-04 - val_loss: 0.0053\n"
          ]
        }
      ]
    },
    {
      "cell_type": "code",
      "metadata": {
        "colab": {
          "base_uri": "https://localhost:8080/",
          "height": 281
        },
        "id": "qDzZYxJ1Dmu6",
        "outputId": "23122105-ca73-4dfb-cb67-954d2c8e619b"
      },
      "source": [
        "# Calculating the loss and validation loss and plotting a graph to compare them\n",
        "loss = history.history['loss']\n",
        "val_loss = history.history['val_loss']\n",
        "epochs = range(len(loss))\n",
        "plt.figure()\n",
        "plt.plot(epochs, loss, 'b', label='Training loss')\n",
        "plt.plot(epochs, val_loss, 'r', label='Validation loss')\n",
        "plt.title(\"Training and Validation Loss\")\n",
        "plt.legend()\n",
        "plt.show()"
      ],
      "execution_count": 7,
      "outputs": [
        {
          "output_type": "display_data",
          "data": {
            "image/png": "[encoded data removed]",
            "text/plain": [
              "<Figure size 432x288 with 1 Axes>"
            ]
          },
          "metadata": {
            "needs_background": "light"
          }
        }
      ]
    },
    {
      "cell_type": "code",
      "metadata": {
        "id": "pJpxTXQIyEi6"
      },
      "source": [
        "# Creating a test data to predict the trend of the market before 60 days\n",
        "part_60_days = training_data.tail(60)\n",
        "df = part_60_days.append(test_data, ignore_index=True)\n",
        "df = df.drop(['Date', 'Adj Close'], axis=1)\n",
        "df.head()\n",
        "inputs = scaler.transform(df)\n",
        "\n",
        "X_test = []\n",
        "Y_test = []\n",
        "for i in range(60, inputs.shape[0]):\n",
        "    X_test.append(inputs[i-60:i])\n",
        "    Y_test.append(inputs[i, 0])\n",
        "\n",
        "X_test = np.array(X_test)\n",
        "Y_test = np.array(Y_test)"
      ],
      "execution_count": 8,
      "outputs": []
    },
    {
      "cell_type": "markdown",
      "metadata": {
        "id": "qM6henq4WWEw"
      },
      "source": [
        "Predicting and plotting the output"
      ]
    },
    {
      "cell_type": "code",
      "metadata": {
        "id": "MJbxKKdPyJnf"
      },
      "source": [
        "# Scaling the data for plotting the final graph\n",
        "Y_pred = model.predict(X_test)\n",
        "\n",
        "scale = 1/scaler.scale_[0]\n",
        "Y_test = Y_test*scale\n",
        "Y_pred = Y_pred*scale"
      ],
      "execution_count": 9,
      "outputs": []
    },
    {
      "cell_type": "code",
      "metadata": {
        "colab": {
          "base_uri": "https://localhost:8080/",
          "height": 350
        },
        "id": "thlUzflbyKKW",
        "outputId": "57135f6c-5c40-485e-bfb7-9cbbe38fcb4a"
      },
      "source": [
        "# Plotting the final graph to predict the trend of the market\n",
        "plt.figure(figsize=(14, 5))\n",
        "plt.plot(Y_test, color='red', label='Real Solana Price')\n",
        "plt.plot(Y_pred, color='green', label='Predicted Solana Price')\n",
        "plt.title('Solana Price Prediction using RNN-LSTM')\n",
        "plt.xlabel('Time')\n",
        "plt.ylabel('Price')\n",
        "plt.legend()\n",
        "plt.show()"
      ],
      "execution_count": 10,
      "outputs": [
        {
          "output_type": "display_data",
          "data": {
            "image/png": "[encoded data removed]",
            "text/plain": [
              "<Figure size 1008x360 with 1 Axes>"
            ]
          },
          "metadata": {
            "needs_background": "light"
          }
        }
      ]
    }
  ]
}