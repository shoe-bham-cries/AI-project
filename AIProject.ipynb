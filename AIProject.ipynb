{
  "nbformat": 4,
  "nbformat_minor": 0,
  "metadata": {
    "kernelspec": {
      "display_name": "Python 3",
      "language": "python",
      "name": "python3"
    },
    "language_info": {
      "codemirror_mode": {
        "name": "ipython",
        "version": 3
      },
      "file_extension": ".py",
      "mimetype": "text/x-python",
      "name": "python",
      "nbconvert_exporter": "python",
      "pygments_lexer": "ipython3",
      "version": "3.8.3"
    },
    "colab": {
      "name": "AIProject.ipynb",
      "provenance": [],
      "collapsed_sections": [],
      "include_colab_link": true
    }
  },
  "cells": [
    {
      "cell_type": "markdown",
      "metadata": {
        "id": "view-in-github",
        "colab_type": "text"
      },
      "source": [
        "<a href=\"https://colab.research.google.com/github/shoe-bham-cries/AI-project/blob/main/AIProject.ipynb\" target=\"_parent\"><img src=\"https://colab.research.google.com/assets/colab-badge.svg\" alt=\"Open In Colab\"/></a>"
      ]
    },
    {
      "cell_type": "code",
      "metadata": {
        "colab": {
          "base_uri": "https://localhost:8080/"
        },
        "id": "DK6FBB2FCaC8",
        "outputId": "257be33a-2fa7-4ff1-8752-39c0161d9259"
      },
      "source": [
        "from google.colab import drive\n",
        "drive.mount('/content/drive')"
      ],
      "execution_count": null,
      "outputs": [
        {
          "output_type": "stream",
          "name": "stdout",
          "text": [
            "Drive already mounted at /content/drive; to attempt to forcibly remount, call drive.mount(\"/content/drive\", force_remount=True).\n"
          ]
        }
      ]
    },
    {
      "cell_type": "code",
      "metadata": {
        "id": "icbKjSMeBAEO"
      },
      "source": [
        "import numpy as n\n",
        "import matplotlib.pyplot as plt\n",
        "import numpy as np\n",
        "import pandas as p\n",
        "from sklearn.preprocessing import MinMaxScaler\n",
        "from sklearn.linear_model import LinearRegression\n",
        "from tensorflow.keras import Sequential\n",
        "from tensorflow.keras.layers import Dense, LSTM, Dropout    "
      ],
      "execution_count": null,
      "outputs": []
    },
    {
      "cell_type": "code",
      "metadata": {
        "id": "CBWln4mlBCSH",
        "colab": {
          "base_uri": "https://localhost:8080/"
        },
        "outputId": "06a219dc-8ab5-4815-c10d-6bf0fa24d884"
      },
      "source": [
        "data = p.read_csv('/content/drive/MyDrive/BTC-USD.csv', date_parser=True)\n",
        "data['Open'].fillna(value=data['Open'].mean(), inplace=True)\n",
        "data['High'].fillna(value=data['High'].mean(), inplace=True)\n",
        "data['Low'].fillna(value=data['Low'].mean(), inplace=True)\n",
        "data['Close'].fillna(value=data['Close'].mean(), inplace=True)\n",
        "data['Adj Close'].fillna(value=data['Adj Close'].mean(), inplace=True)\n",
        "data['Volume'].fillna(value=data['Volume'].mean(), inplace=True)\n",
        "\n",
        "# Letting data up to be 31-Oct-2021 be the training set\n",
        "training_data = data[data['Date'] <= '2021-10-31'].copy()\n",
        "# Test data will be the data from 1-Nov-2021 to 21-Nov-2021\n",
        "test_data = data[data['Date'] > '2021-10-31'].copy()\n",
        "# Formatting the test and training tables by dropping irrelevant columns\n",
        "\n",
        "training_data = training_data.drop(['Date', 'Adj Close'], axis=1)          \n",
        "training_data.size"
      ],
      "execution_count": null,
      "outputs": [
        {
          "output_type": "execute_result",
          "data": {
            "text/plain": [
              "13010"
            ]
          },
          "metadata": {},
          "execution_count": 47
        }
      ]
    },
    {
      "cell_type": "code",
      "metadata": {
        "colab": {
          "base_uri": "https://localhost:8080/",
          "height": 297
        },
        "id": "wcsJwop_0Ubh",
        "outputId": "94716927-c7ba-47de-f3bb-605ead69bf19"
      },
      "source": [
        "training_data.describe()"
      ],
      "execution_count": null,
      "outputs": [
        {
          "output_type": "execute_result",
          "data": {
            "text/html": [
              "<div>\n",
              "<style scoped>\n",
              "    .dataframe tbody tr th:only-of-type {\n",
              "        vertical-align: middle;\n",
              "    }\n",
              "\n",
              "    .dataframe tbody tr th {\n",
              "        vertical-align: top;\n",
              "    }\n",
              "\n",
              "    .dataframe thead th {\n",
              "        text-align: right;\n",
              "    }\n",
              "</style>\n",
              "<table border=\"1\" class=\"dataframe\">\n",
              "  <thead>\n",
              "    <tr style=\"text-align: right;\">\n",
              "      <th></th>\n",
              "      <th>Open</th>\n",
              "      <th>High</th>\n",
              "      <th>Low</th>\n",
              "      <th>Close</th>\n",
              "      <th>Volume</th>\n",
              "    </tr>\n",
              "  </thead>\n",
              "  <tbody>\n",
              "    <tr>\n",
              "      <th>count</th>\n",
              "      <td>2602.000000</td>\n",
              "      <td>2602.000000</td>\n",
              "      <td>2602.000000</td>\n",
              "      <td>2602.000000</td>\n",
              "      <td>2.602000e+03</td>\n",
              "    </tr>\n",
              "    <tr>\n",
              "      <th>mean</th>\n",
              "      <td>9703.103068</td>\n",
              "      <td>9978.013851</td>\n",
              "      <td>9410.019681</td>\n",
              "      <td>9725.753514</td>\n",
              "      <td>1.386050e+10</td>\n",
              "    </tr>\n",
              "    <tr>\n",
              "      <th>std</th>\n",
              "      <td>14287.385660</td>\n",
              "      <td>14712.100555</td>\n",
              "      <td>13824.356396</td>\n",
              "      <td>14321.224797</td>\n",
              "      <td>1.989703e+10</td>\n",
              "    </tr>\n",
              "    <tr>\n",
              "      <th>min</th>\n",
              "      <td>176.897003</td>\n",
              "      <td>211.731003</td>\n",
              "      <td>171.509995</td>\n",
              "      <td>178.102997</td>\n",
              "      <td>5.914570e+06</td>\n",
              "    </tr>\n",
              "    <tr>\n",
              "      <th>25%</th>\n",
              "      <td>579.634018</td>\n",
              "      <td>585.867005</td>\n",
              "      <td>574.131012</td>\n",
              "      <td>580.463501</td>\n",
              "      <td>7.442338e+07</td>\n",
              "    </tr>\n",
              "    <tr>\n",
              "      <th>50%</th>\n",
              "      <td>5632.154785</td>\n",
              "      <td>5818.410157</td>\n",
              "      <td>5484.405762</td>\n",
              "      <td>5647.619873</td>\n",
              "      <td>4.654075e+09</td>\n",
              "    </tr>\n",
              "    <tr>\n",
              "      <th>75%</th>\n",
              "      <td>9788.392823</td>\n",
              "      <td>9985.623047</td>\n",
              "      <td>9582.369385</td>\n",
              "      <td>9795.882568</td>\n",
              "      <td>2.248523e+10</td>\n",
              "    </tr>\n",
              "    <tr>\n",
              "      <th>max</th>\n",
              "      <td>66002.234375</td>\n",
              "      <td>66930.390625</td>\n",
              "      <td>63610.675781</td>\n",
              "      <td>65992.835938</td>\n",
              "      <td>3.509679e+11</td>\n",
              "    </tr>\n",
              "  </tbody>\n",
              "</table>\n",
              "</div>"
            ],
            "text/plain": [
              "               Open          High           Low         Close        Volume\n",
              "count   2602.000000   2602.000000   2602.000000   2602.000000  2.602000e+03\n",
              "mean    9703.103068   9978.013851   9410.019681   9725.753514  1.386050e+10\n",
              "std    14287.385660  14712.100555  13824.356396  14321.224797  1.989703e+10\n",
              "min      176.897003    211.731003    171.509995    178.102997  5.914570e+06\n",
              "25%      579.634018    585.867005    574.131012    580.463501  7.442338e+07\n",
              "50%     5632.154785   5818.410157   5484.405762   5647.619873  4.654075e+09\n",
              "75%     9788.392823   9985.623047   9582.369385   9795.882568  2.248523e+10\n",
              "max    66002.234375  66930.390625  63610.675781  65992.835938  3.509679e+11"
            ]
          },
          "metadata": {},
          "execution_count": 48
        }
      ]
    },
    {
      "cell_type": "code",
      "metadata": {
        "id": "05CpTWuJBIQM"
      },
      "source": [
        "scaler = MinMaxScaler()\n",
        "train_data = scaler.fit_transform(training_data)\n",
        "X_train = []\n",
        "Y_train = []\n",
        "\n",
        "for i in range(60, train_data.shape[0]):\n",
        "    X_train.append(train_data[i - 60:i])\n",
        "    Y_train.append(train_data[i, 0])\n",
        "\n",
        "X_train = n.array(X_train)\n",
        "Y_train = n.array(Y_train)"
      ],
      "execution_count": null,
      "outputs": []
    },
    {
      "cell_type": "code",
      "metadata": {
        "id": "YX_y5A5OEEII"
      },
      "source": [
        "# RNN intialization\n",
        "model = Sequential()\n",
        "model.add(LSTM(units=50, activation='relu', return_sequences=True, input_shape=(X_train.shape[1], 5)))\n",
        "model.add(Dropout(0.2))\n",
        "model.add(LSTM(units=60, activation='relu', return_sequences=True))\n",
        "model.add(Dropout(0.3))\n",
        "model.add(LSTM(units=80, activation='relu', return_sequences=True))\n",
        "model.add(Dropout(0.4))\n",
        "model.add(LSTM(units=120, activation='relu'))\n",
        "model.add(Dropout(0.5))\n",
        "model.add(Dense(units=1))\n",
        "model.compile(optimizer='adam', loss='mean_squared_error')"
      ],
      "execution_count": null,
      "outputs": []
    },
    {
      "cell_type": "code",
      "metadata": {
        "id": "kABMDB5iuHC9",
        "colab": {
          "base_uri": "https://localhost:8080/",
          "height": 1000
        },
        "outputId": "008ee5f2-6138-4ce8-912a-53f689c74be8"
      },
      "source": [
        "history = model.fit(X_train, Y_train, epochs=25, batch_size=50, validation_split=0.1)\n",
        "\n",
        "loss = history.history['loss']\n",
        "val_loss = history.history['val_loss']\n",
        "epochs = range(len(loss))\n",
        "plt.figure()\n",
        "plt.plot(epochs, loss, 'b', label='Training loss')\n",
        "plt.plot(epochs, val_loss, 'r', label='Validation loss')\n",
        "plt.title(\"Training and Validation Loss\")\n",
        "plt.legend()\n",
        "plt.show()"
      ],
      "execution_count": null,
      "outputs": [
        {
          "output_type": "stream",
          "name": "stdout",
          "text": [
            "Epoch 1/25\n",
            "46/46 [==============================] - 17s 249ms/step - loss: 0.0040 - val_loss: 0.1568\n",
            "Epoch 2/25\n",
            "46/46 [==============================] - 11s 235ms/step - loss: 0.0014 - val_loss: 0.0276\n",
            "Epoch 3/25\n",
            "46/46 [==============================] - 11s 233ms/step - loss: 0.0011 - val_loss: 0.0168\n",
            "Epoch 4/25\n",
            "46/46 [==============================] - 11s 235ms/step - loss: 0.0010 - val_loss: 0.0128\n",
            "Epoch 5/25\n",
            "46/46 [==============================] - 11s 230ms/step - loss: 9.4719e-04 - val_loss: 0.0089\n",
            "Epoch 6/25\n",
            "46/46 [==============================] - 11s 233ms/step - loss: 7.9083e-04 - val_loss: 0.0071\n",
            "Epoch 7/25\n",
            "46/46 [==============================] - 11s 232ms/step - loss: 9.7369e-04 - val_loss: 0.0068\n",
            "Epoch 8/25\n",
            "46/46 [==============================] - 11s 233ms/step - loss: 0.0015 - val_loss: 0.0155\n",
            "Epoch 9/25\n",
            "46/46 [==============================] - 11s 233ms/step - loss: 8.3180e-04 - val_loss: 0.0183\n",
            "Epoch 10/25\n",
            "46/46 [==============================] - 11s 235ms/step - loss: 9.7275e-04 - val_loss: 0.0195\n",
            "Epoch 11/25\n",
            "46/46 [==============================] - 11s 233ms/step - loss: 8.1541e-04 - val_loss: 0.0043\n",
            "Epoch 12/25\n",
            "46/46 [==============================] - 11s 230ms/step - loss: 7.6113e-04 - val_loss: 0.0047\n",
            "Epoch 13/25\n",
            "46/46 [==============================] - 11s 234ms/step - loss: 8.4784e-04 - val_loss: 0.0037\n",
            "Epoch 14/25\n",
            "46/46 [==============================] - 11s 235ms/step - loss: 8.2687e-04 - val_loss: 0.0032\n",
            "Epoch 15/25\n",
            "46/46 [==============================] - 11s 233ms/step - loss: 7.5507e-04 - val_loss: 0.0075\n",
            "Epoch 16/25\n",
            "46/46 [==============================] - 11s 238ms/step - loss: 8.6257e-04 - val_loss: 0.0079\n",
            "Epoch 17/25\n",
            "46/46 [==============================] - 11s 235ms/step - loss: 6.7659e-04 - val_loss: 0.0225\n",
            "Epoch 18/25\n",
            "46/46 [==============================] - 11s 232ms/step - loss: 5.9660e-04 - val_loss: 0.0039\n",
            "Epoch 19/25\n",
            "46/46 [==============================] - 11s 235ms/step - loss: 6.2897e-04 - val_loss: 0.0042\n",
            "Epoch 20/25\n",
            "46/46 [==============================] - 11s 232ms/step - loss: 6.6454e-04 - val_loss: 0.0051\n",
            "Epoch 21/25\n",
            "46/46 [==============================] - 11s 234ms/step - loss: 6.9722e-04 - val_loss: 0.0036\n",
            "Epoch 22/25\n",
            "46/46 [==============================] - 11s 236ms/step - loss: 6.1723e-04 - val_loss: 0.0034\n",
            "Epoch 23/25\n",
            "46/46 [==============================] - 11s 236ms/step - loss: 5.4596e-04 - val_loss: 0.0058\n",
            "Epoch 24/25\n",
            "46/46 [==============================] - 11s 235ms/step - loss: 5.4496e-04 - val_loss: 0.0084\n",
            "Epoch 25/25\n",
            "46/46 [==============================] - 11s 240ms/step - loss: 5.1074e-04 - val_loss: 0.0047\n"
          ]
        },
        {
          "output_type": "display_data",
          "data": {
            "image/png": "[encoded data removed]",
            "text/plain": [
              "<Figure size 432x288 with 1 Axes>"
            ]
          },
          "metadata": {
            "needs_background": "light"
          }
        }
      ]
    },
    {
      "cell_type": "code",
      "metadata": {
        "id": "8mE-9nGUuR6j"
      },
      "source": [
        "part_60_days = training_data.tail(60)\n",
        "df = part_60_days.append(test_data, ignore_index=True)\n",
        "df = df.drop(['Date', 'Adj Close'], axis=1)\n",
        "df.head()\n",
        "inputs = scaler.transform(df)"
      ],
      "execution_count": null,
      "outputs": []
    },
    {
      "cell_type": "code",
      "metadata": {
        "id": "_sY5K2JVvECI"
      },
      "source": [
        "X_test = []\n",
        "Y_test = []\n",
        "for i in range(60, inputs.shape[0]):\n",
        "    X_test.append(inputs[i-60:i])\n",
        "    Y_test.append(inputs[i, 0])\n",
        "\n",
        "X_test = np.array(X_test)\n",
        "Y_test = np.array(Y_test)"
      ],
      "execution_count": null,
      "outputs": []
    },
    {
      "cell_type": "code",
      "metadata": {
        "id": "7Vs9gN8xvGDD"
      },
      "source": [
        "# regressor = LinearRegression()\n",
        "Y_pred = model.predict(X_test)\n",
        "\n",
        "scale = 1/scaler.scale_[0]\n",
        "Y_test = Y_test*scale\n",
        "Y_pred = Y_pred*scale"
      ],
      "execution_count": null,
      "outputs": []
    },
    {
      "cell_type": "code",
      "metadata": {
        "id": "thwTqZm9vH7n",
        "colab": {
          "base_uri": "https://localhost:8080/",
          "height": 350
        },
        "outputId": "8ae2b2a8-5841-4988-edb9-edb97b0c65a5"
      },
      "source": [
        "plt.figure(figsize=(14, 5))\n",
        "plt.plot(Y_test, color='red', label='Real Bitcoin Price')\n",
        "plt.plot(Y_pred, color='green', label='Predicted Bitcoin Price')\n",
        "plt.title('Bitcoin Price Prediction using RNN-LSTM')\n",
        "plt.xlabel('Time')\n",
        "plt.ylabel('Price')\n",
        "plt.legend()\n",
        "plt.show()"
      ],
      "execution_count": null,
      "outputs": [
        {
          "output_type": "display_data",
          "data": {
            "image/png": "[encoded data removed]",
            "text/plain": [
              "<Figure size 1008x360 with 1 Axes>"
            ]
          },
          "metadata": {
            "needs_background": "light"
          }
        }
      ]
    }
  ]
}